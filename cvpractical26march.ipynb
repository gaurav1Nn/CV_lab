{
 "cells": [
  {
   "cell_type": "code",
   "execution_count": 46,
   "id": "aa0dda17-f463-48b6-85fa-c0d33f314419",
   "metadata": {},
   "outputs": [],
   "source": [
    "import cv2\n",
    "\n",
    "# Load the image\n",
    "image = cv2.imread(\"bmw.jpg\")\n",
    "\n",
    "# Check if the image was loaded successfully\n",
    "if image is None:\n",
    "    print(\"Error: Unable to load image. Please check the file path.\")\n",
    "else:\n",
    "    # Display the original image\n",
    "    cv2.imshow('BMW Car', image)\n",
    "\n",
    "    # Wait for the user to press any key to close the image window\n",
    "    cv2.waitKey(0)\n",
    "    cv2.destroyAllWindows()\n"
   ]
  },
  {
   "cell_type": "code",
   "execution_count": 55,
   "id": "1bc49fab-316e-4eab-89dd-b805345583cf",
   "metadata": {},
   "outputs": [],
   "source": [
    "# background subtraction with grab cut \n",
    "\n",
    "# Load the image\n",
    "image = cv2.imread(\"bmw.jpg\")\n",
    "\n",
    "# Convert the image to grayscale\n",
    "gray = cv2.cvtColor(image, cv2.COLOR_BGR2GRAY)\n",
    "\n",
    "# Apply GaussianBlur to reduce noise\n",
    "blurred = cv2.GaussianBlur(gray, (5, 5), 0)\n",
    "\n",
    "\n",
    "# Use the mask to extract the foreground\n",
    "foreground = cv2.bitwise_and(image, image, mask=mask)\n",
    "\n",
    "# Display the result\n",
    "cv2.imshow('BMW ', foreground)\n",
    "cv2.waitKey(0)\n",
    "cv2.destroyAllWindows()\n"
   ]
  },
  {
   "cell_type": "code",
   "execution_count": null,
   "id": "560ceaf7-7566-474a-a67f-5915620482c1",
   "metadata": {},
   "outputs": [],
   "source": []
  },
  {
   "cell_type": "code",
   "execution_count": null,
   "id": "5282cb05-b39d-4b0b-be81-dc2805396d21",
   "metadata": {},
   "outputs": [],
   "source": []
  },
  {
   "cell_type": "code",
   "execution_count": 48,
   "id": "29d1552b-3443-488f-b940-80de022899b6",
   "metadata": {},
   "outputs": [],
   "source": [
    "#background subtraction with MOG\n",
    "image = cv2.imread(\"bmw.jpg\")\n",
    "\n",
    "# Define a rectangle around the object of interest (adjust the coordinates as needed)\n",
    "rect = (50, 50, image.shape[1] - 50, image.shape[0] - 50)\n",
    "\n",
    "# Create an initial mask, and initialize the background and foreground models\n",
    "mask = np.zeros(image.shape[:2], np.uint8)\n",
    "bgd_model = np.zeros((1, 65), np.float64)\n",
    "fgd_model = np.zeros((1, 65), np.float64)\n",
    "\n",
    "# Apply GrabCut algorithm\n",
    "cv2.grabCut(image, mask, rect, bgd_model, fgd_model, 5, cv2.GC_INIT_WITH_RECT)\n",
    "\n",
    "# Modify the mask to extract the foreground\n",
    "mask2 = np.where((mask == 2) | (mask == 0), 0, 1).astype('uint8')\n",
    "\n",
    "# Apply the mask to the original image to get the foreground\n",
    "foreground = image * mask2[:, :, np.newaxis]\n",
    "\n",
    "# Display the result\n",
    "cv2.imshow('Foreground', foreground)\n",
    "cv2.waitKey(0)\n",
    "cv2.destroyAllWindows()\n"
   ]
  }
 ],
 "metadata": {
  "kernelspec": {
   "display_name": "Python 3 (ipykernel)",
   "language": "python",
   "name": "python3"
  },
  "language_info": {
   "codemirror_mode": {
    "name": "ipython",
    "version": 3
   },
   "file_extension": ".py",
   "mimetype": "text/x-python",
   "name": "python",
   "nbconvert_exporter": "python",
   "pygments_lexer": "ipython3",
   "version": "3.12.0"
  }
 },
 "nbformat": 4,
 "nbformat_minor": 5
}
